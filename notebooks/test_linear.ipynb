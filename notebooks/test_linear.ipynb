{
 "cells": [
  {
   "cell_type": "code",
   "execution_count": 1,
   "metadata": {
    "collapsed": false
   },
   "outputs": [
    {
     "name": "stderr",
     "output_type": "stream",
     "text": [
      "Vendor:  Continuum Analytics, Inc.\n",
      "Package: mkl\n",
      "Message: trial mode expires in 30 days\n",
      "Vendor:  Continuum Analytics, Inc.\n",
      "Package: mkl\n",
      "Message: trial mode expires in 30 days\n"
     ]
    }
   ],
   "source": [
    "%matplotlib inline\n",
    "%config InlineBackend.figure_format = 'retina'"
   ]
  },
  {
   "cell_type": "code",
   "execution_count": 4,
   "metadata": {
    "collapsed": true
   },
   "outputs": [],
   "source": [
    "import matplotlib.pyplot as plt\n",
    "import sys; sys.path.append('../slip_rate_tools/')\n",
    "import slip_rate_tools as srt\n",
    "import pandas as pd"
   ]
  },
  {
   "cell_type": "code",
   "execution_count": 5,
   "metadata": {
    "collapsed": false
   },
   "outputs": [],
   "source": [
    "offset_df = pd.read_csv('../test_data/offsets.csv')\n",
    "offset_df['offset_m'] = offset_df.offset_in * 200.\n",
    "\n",
    "t1 = offset_df[offset_df.unit == 'T1']\n",
    "qa = offset_df[offset_df.unit == 'Qa']\n",
    "qao = offset_df[offset_df.unit == 'Qao']\n",
    "\n",
    "#qao['offset_m'] *= 1.5\n",
    "\n",
    "t1_age = {'mean': 24., 'sd':8.}\n",
    "qa_age = {'mean': 50., 'sd':20.}\n",
    "qao_age = {'mean':100., 'sd':32.}\n",
    "\n",
    "T1 = srt.OffsetMarker(age_mean=t1_age['mean'], age_sd=t1_age['sd'],\n",
    "                      offset_vals=t1.offset_m, offset_probs=t1.rel_prob)\n",
    "\n",
    "Qa = srt.OffsetMarker(age_mean=qa_age['mean'], age_sd=qa_age['sd'],\n",
    "                      offset_vals=qa.offset_m, offset_probs=qa.rel_prob)\n",
    "\n",
    "Qao = srt.OffsetMarker(age_mean=qao_age['mean'], age_sd=qao_age['sd'],\n",
    "                      offset_vals=qao.offset_m, offset_probs=qao.rel_prob)"
   ]
  },
  {
   "cell_type": "code",
   "execution_count": null,
   "metadata": {
    "collapsed": true
   },
   "outputs": [],
   "source": [
    "def linear_fits(offset_list, n, check_increasing=True,\n",
    "               zero_offset_age=0.):\n",
    "    \n",
    "    age_arr, off_arr = srt.make_age_offset_arrays(offset_list, n, \n",
    "                                                  check_increasing=check_increasing,\n",
    "                                                  zero_offset_age =0.)\n",
    "    \n",
    "    results_dataframe = pd.DataFrame(index=np.arange(n), columns="
   ]
  }
 ],
 "metadata": {
  "kernelspec": {
   "display_name": "Python 3",
   "language": "python",
   "name": "python3"
  },
  "language_info": {
   "codemirror_mode": {
    "name": "ipython",
    "version": 3
   },
   "file_extension": ".py",
   "mimetype": "text/x-python",
   "name": "python",
   "nbconvert_exporter": "python",
   "pygments_lexer": "ipython3",
   "version": "3.4.3"
  }
 },
 "nbformat": 4,
 "nbformat_minor": 0
}
