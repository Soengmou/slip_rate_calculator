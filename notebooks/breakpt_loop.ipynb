{
 "cells": [
  {
   "cell_type": "code",
   "execution_count": 1,
   "metadata": {
    "collapsed": true
   },
   "outputs": [],
   "source": [
    "%matplotlib inline\n",
    "%config InlineBackend.figure_format = 'retina'"
   ]
  },
  {
   "cell_type": "code",
   "execution_count": 504,
   "metadata": {
    "collapsed": false
   },
   "outputs": [],
   "source": [
    "import sys\n",
    "sys.path.append('../slip_rate_tools/')\n",
    "import numpy as np\n",
    "import slip_rate_tools.slip_rate_tools as srt\n",
    "import matplotlib.pyplot as plt\n",
    "import statsmodels.api as sm\n",
    "import itertools\n"
   ]
  },
  {
   "cell_type": "code",
   "execution_count": 274,
   "metadata": {
    "collapsed": true
   },
   "outputs": [],
   "source": [
    "np.random.seed(420)"
   ]
  },
  {
   "cell_type": "code",
   "execution_count": 321,
   "metadata": {
    "collapsed": false
   },
   "outputs": [],
   "source": [
    "x_data = np.array([15, 73, 125, 200, 266, 277])\n",
    "#x_data = x_data[1:]\n",
    "breakpt = 125\n",
    "breaks = np.array([0, breakpt, 200])\n",
    "\n",
    "exog = np.column_stack([np.maximum(0, x_data - knot) \n",
    "                        for knot in breaks])\n",
    "\n",
    "#exog"
   ]
  },
  {
   "cell_type": "code",
   "execution_count": 329,
   "metadata": {
    "collapsed": false
   },
   "outputs": [],
   "source": [
    "# make y data\n",
    "slopes = np.array([1., -2., 1.])\n",
    "y_true = np.dot(exog, slopes)\n",
    "\n",
    "y_obs = y_true + x_data * np.random.randn(len(x_data)) * 0.2\n",
    "\n",
    "#y_obs = y_true\n",
    "\n",
    "#y_obs = y_true + 100"
   ]
  },
  {
   "cell_type": "code",
   "execution_count": 330,
   "metadata": {
    "collapsed": false
   },
   "outputs": [
    {
     "data": {
      "text/plain": [
       "array([ 1., -2.,  1.])"
      ]
     },
     "execution_count": 330,
     "metadata": {},
     "output_type": "execute_result"
    }
   ],
   "source": [
    "np.linalg.lstsq(exog, y_true)[0]"
   ]
  },
  {
   "cell_type": "code",
   "execution_count": 541,
   "metadata": {
    "collapsed": false
   },
   "outputs": [],
   "source": [
    "def flatten(nested_iterator):\n",
    "    for item in nested_iterator:\n",
    "        if not hasattr(item, 'len'):\n",
    "            item = [item]\n",
    "    print(nested_iterator)\n",
    "    return list(itertools.chain(*nested_iterator))\n",
    "\n",
    "def fit_piecewise(x_data, y_data, breakpts):\n",
    "    if hasattr(breakpts, 'shape'):\n",
    "        breakpts = breakpts.tolist()\n",
    "    else:\n",
    "        breakpts = list(breakpts)\n",
    "    breakpts.insert(0, 0)\n",
    "    \n",
    "    exog = np.column_stack([np.maximum(0, x_data - knot)\n",
    "                           for knot in breakpts])\n",
    "    \n",
    "    slopes, sum_resid = np.linalg.lstsq(exog, y_data)[0:2]\n",
    "    \n",
    "    return np.cumsum(slopes), sum_resid\n",
    "    \n",
    "\n",
    "def piecewise_search(x_data, y_data, n_pieces=2, n_iters=100):\n",
    "    \n",
    "    n_breaks = n_pieces -1\n",
    "    breakpt_samples = np.random.uniform(0., x_data.max(), (n_iters, n_breaks))\n",
    "    breakpt_samples = np.sort(breakpt_samples, axis=1)\n",
    "    slopes = {}\n",
    "    sumsqs = np.ones(n_iters) * np.inf\n",
    "    \n",
    "    for i, breakpt in enumerate(breakpt_samples):\n",
    "        try:\n",
    "            slopes[i], sumsqs[i] = fit_piecewise(x_data, y_data, breakpt)\n",
    "        except ValueError:\n",
    "            #print('this broke: ', fit_piecewise(x_data, y_data, breakpt))\n",
    "            pass\n",
    "        \n",
    "    ii = np.argmin(sumsqs)\n",
    "        \n",
    "    return flatten([slopes[ii], breakpt_samples[ii], sumsqs[ii]])"
   ]
  },
  {
   "cell_type": "code",
   "execution_count": 542,
   "metadata": {
    "collapsed": false
   },
   "outputs": [
    {
     "name": "stdout",
     "output_type": "stream",
     "text": [
      "[[4, 5], 6]\n"
     ]
    },
    {
     "ename": "TypeError",
     "evalue": "'int' object is not iterable",
     "output_type": "error",
     "traceback": [
      "\u001b[0;31m---------------------------------------------------------------------------\u001b[0m",
      "\u001b[0;31mTypeError\u001b[0m                                 Traceback (most recent call last)",
      "\u001b[0;32m<ipython-input-542-3980d3b49a94>\u001b[0m in \u001b[0;36m<module>\u001b[0;34m()\u001b[0m\n\u001b[0;32m----> 1\u001b[0;31m \u001b[0mflatten\u001b[0m\u001b[0;34m(\u001b[0m\u001b[0;34m[\u001b[0m\u001b[0;34m[\u001b[0m\u001b[0;36m4\u001b[0m\u001b[0;34m,\u001b[0m\u001b[0;36m5\u001b[0m\u001b[0;34m]\u001b[0m\u001b[0;34m,\u001b[0m\u001b[0;36m6\u001b[0m\u001b[0;34m]\u001b[0m\u001b[0;34m)\u001b[0m\u001b[0;34m\u001b[0m\u001b[0m\n\u001b[0m",
      "\u001b[0;32m<ipython-input-541-397335e42815>\u001b[0m in \u001b[0;36mflatten\u001b[0;34m(nested_iterator)\u001b[0m\n\u001b[1;32m      4\u001b[0m             \u001b[0mitem\u001b[0m \u001b[0;34m=\u001b[0m \u001b[0;34m[\u001b[0m\u001b[0mitem\u001b[0m\u001b[0;34m]\u001b[0m\u001b[0;34m\u001b[0m\u001b[0m\n\u001b[1;32m      5\u001b[0m     \u001b[0mprint\u001b[0m\u001b[0;34m(\u001b[0m\u001b[0mnested_iterator\u001b[0m\u001b[0;34m)\u001b[0m\u001b[0;34m\u001b[0m\u001b[0m\n\u001b[0;32m----> 6\u001b[0;31m     \u001b[0;32mreturn\u001b[0m \u001b[0mlist\u001b[0m\u001b[0;34m(\u001b[0m\u001b[0mitertools\u001b[0m\u001b[0;34m.\u001b[0m\u001b[0mchain\u001b[0m\u001b[0;34m(\u001b[0m\u001b[0;34m*\u001b[0m\u001b[0mnested_iterator\u001b[0m\u001b[0;34m)\u001b[0m\u001b[0;34m)\u001b[0m\u001b[0;34m\u001b[0m\u001b[0m\n\u001b[0m\u001b[1;32m      7\u001b[0m \u001b[0;34m\u001b[0m\u001b[0m\n\u001b[1;32m      8\u001b[0m \u001b[0;32mdef\u001b[0m \u001b[0mfit_piecewise\u001b[0m\u001b[0;34m(\u001b[0m\u001b[0mx_data\u001b[0m\u001b[0;34m,\u001b[0m \u001b[0my_data\u001b[0m\u001b[0;34m,\u001b[0m \u001b[0mbreakpts\u001b[0m\u001b[0;34m)\u001b[0m\u001b[0;34m:\u001b[0m\u001b[0;34m\u001b[0m\u001b[0m\n",
      "\u001b[0;31mTypeError\u001b[0m: 'int' object is not iterable"
     ]
    }
   ],
   "source": [
    "flatten([[4,5],6])"
   ]
  },
  {
   "cell_type": "code",
   "execution_count": null,
   "metadata": {
    "collapsed": true
   },
   "outputs": [],
   "source": [
    "np.argmin()"
   ]
  },
  {
   "cell_type": "code",
   "execution_count": 176,
   "metadata": {
    "collapsed": false
   },
   "outputs": [
    {
     "name": "stdout",
     "output_type": "stream",
     "text": [
      "10000 loops, best of 3: 97.9 µs per loop\n"
     ]
    }
   ],
   "source": [
    "%%timeit\n",
    "np.linalg.lstsq(exog, y_true)"
   ]
  },
  {
   "cell_type": "code",
   "execution_count": 338,
   "metadata": {
    "collapsed": false
   },
   "outputs": [
    {
     "data": {
      "text/plain": [
       "(array([ 0.68716942, -0.79313895]), array([ 4732.4563945]))"
      ]
     },
     "execution_count": 338,
     "metadata": {},
     "output_type": "execute_result"
    }
   ],
   "source": [
    "#%%timeit\n",
    "fit_piecewise(x_data, y_true, [175])"
   ]
  },
  {
   "cell_type": "code",
   "execution_count": 535,
   "metadata": {
    "collapsed": false
   },
   "outputs": [
    {
     "data": {
      "text/plain": [
       "[array([ 0.98744347, -0.47168234]), array([ 117.36727243]), 993.02998173288188]"
      ]
     },
     "execution_count": 535,
     "metadata": {},
     "output_type": "execute_result"
    }
   ],
   "source": [
    "#%%timeit\n",
    "piecewise_search(x_data, y_true, n_iters=20, n_pieces=2)"
   ]
  },
  {
   "cell_type": "code",
   "execution_count": null,
   "metadata": {
    "collapsed": true
   },
   "outputs": [],
   "source": []
  },
  {
   "cell_type": "code",
   "execution_count": 476,
   "metadata": {
    "collapsed": false
   },
   "outputs": [],
   "source": [
    "#%%timeit\n",
    "res = sm.OLS(y_obs, exog).fit()"
   ]
  },
  {
   "cell_type": "code",
   "execution_count": 288,
   "metadata": {
    "collapsed": false
   },
   "outputs": [
    {
     "name": "stdout",
     "output_type": "stream",
     "text": [
      "1.12605007616 -0.299729025002 139.466373765\n"
     ]
    }
   ],
   "source": [
    "m1, m2, brk, sumsq = piecewise_search_1(x_data, y_obs, 10)\n",
    "print(m1, m2, brk)"
   ]
  },
  {
   "cell_type": "code",
   "execution_count": 283,
   "metadata": {
    "collapsed": false
   },
   "outputs": [
    {
     "name": "stdout",
     "output_type": "stream",
     "text": [
      "1000 loops, best of 3: 1.3 ms per loop\n"
     ]
    }
   ],
   "source": [
    "%%timeit\n",
    "piecewise_search_2(x_data, y_true, n=10)"
   ]
  },
  {
   "cell_type": "code",
   "execution_count": 187,
   "metadata": {
    "collapsed": false
   },
   "outputs": [
    {
     "name": "stdout",
     "output_type": "stream",
     "text": [
      "The slowest run took 24.18 times longer than the fastest. This could mean that an intermediate result is being cached \n",
      "1 loops, best of 3: 12.9 ms per loop\n"
     ]
    }
   ],
   "source": [
    "%%timeit\n",
    "piecewise_search_3(x_data, y_true, n=100)"
   ]
  },
  {
   "cell_type": "code",
   "execution_count": 477,
   "metadata": {
    "collapsed": false
   },
   "outputs": [
    {
     "name": "stderr",
     "output_type": "stream",
     "text": [
      "/Users/itchy/src/anaconda/lib/python3.4/site-packages/statsmodels/stats/stattools.py:72: UserWarning: omni_normtest is not valid with less than 8 observations; 6 samples were given.\n",
      "  \"samples were given.\" % int(n))\n"
     ]
    },
    {
     "data": {
      "text/html": [
       "<table class=\"simpletable\">\n",
       "<caption>OLS Regression Results</caption>\n",
       "<tr>\n",
       "  <th>Dep. Variable:</th>            <td>y</td>        <th>  R-squared:         </th> <td>   0.800</td>\n",
       "</tr>\n",
       "<tr>\n",
       "  <th>Model:</th>                   <td>OLS</td>       <th>  Adj. R-squared:    </th> <td>   0.601</td>\n",
       "</tr>\n",
       "<tr>\n",
       "  <th>Method:</th>             <td>Least Squares</td>  <th>  F-statistic:       </th> <td>   4.008</td>\n",
       "</tr>\n",
       "<tr>\n",
       "  <th>Date:</th>             <td>Fri, 31 Jul 2015</td> <th>  Prob (F-statistic):</th>  <td> 0.142</td> \n",
       "</tr>\n",
       "<tr>\n",
       "  <th>Time:</th>                 <td>09:19:32</td>     <th>  Log-Likelihood:    </th> <td> -28.565</td>\n",
       "</tr>\n",
       "<tr>\n",
       "  <th>No. Observations:</th>      <td>     6</td>      <th>  AIC:               </th> <td>   63.13</td>\n",
       "</tr>\n",
       "<tr>\n",
       "  <th>Df Residuals:</th>          <td>     3</td>      <th>  BIC:               </th> <td>   62.51</td>\n",
       "</tr>\n",
       "<tr>\n",
       "  <th>Df Model:</th>              <td>     3</td>      <th>                     </th>     <td> </td>   \n",
       "</tr>\n",
       "<tr>\n",
       "  <th>Covariance Type:</th>      <td>nonrobust</td>    <th>                     </th>     <td> </td>   \n",
       "</tr>\n",
       "</table>\n",
       "<table class=\"simpletable\">\n",
       "<tr>\n",
       "   <td></td>     <th>coef</th>     <th>std err</th>      <th>t</th>      <th>P>|t|</th> <th>[95.0% Conf. Int.]</th> \n",
       "</tr>\n",
       "<tr>\n",
       "  <th>x1</th> <td>    0.6135</td> <td>    0.275</td> <td>    2.233</td> <td> 0.112</td> <td>   -0.261     1.488</td>\n",
       "</tr>\n",
       "<tr>\n",
       "  <th>x2</th> <td>   -0.7049</td> <td>    0.904</td> <td>   -0.780</td> <td> 0.493</td> <td>   -3.583     2.173</td>\n",
       "</tr>\n",
       "<tr>\n",
       "  <th>x3</th> <td>   -0.0956</td> <td>    1.240</td> <td>   -0.077</td> <td> 0.943</td> <td>   -4.042     3.850</td>\n",
       "</tr>\n",
       "</table>\n",
       "<table class=\"simpletable\">\n",
       "<tr>\n",
       "  <th>Omnibus:</th>       <td>   nan</td> <th>  Durbin-Watson:     </th> <td>   2.694</td>\n",
       "</tr>\n",
       "<tr>\n",
       "  <th>Prob(Omnibus):</th> <td>   nan</td> <th>  Jarque-Bera (JB):  </th> <td>   0.277</td>\n",
       "</tr>\n",
       "<tr>\n",
       "  <th>Skew:</th>          <td>-0.526</td> <th>  Prob(JB):          </th> <td>   0.871</td>\n",
       "</tr>\n",
       "<tr>\n",
       "  <th>Kurtosis:</th>      <td> 3.001</td> <th>  Cond. No.          </th> <td>    18.8</td>\n",
       "</tr>\n",
       "</table>"
      ],
      "text/plain": [
       "<class 'statsmodels.iolib.summary.Summary'>\n",
       "\"\"\"\n",
       "                            OLS Regression Results                            \n",
       "==============================================================================\n",
       "Dep. Variable:                      y   R-squared:                       0.800\n",
       "Model:                            OLS   Adj. R-squared:                  0.601\n",
       "Method:                 Least Squares   F-statistic:                     4.008\n",
       "Date:                Fri, 31 Jul 2015   Prob (F-statistic):              0.142\n",
       "Time:                        09:19:32   Log-Likelihood:                -28.565\n",
       "No. Observations:                   6   AIC:                             63.13\n",
       "Df Residuals:                       3   BIC:                             62.51\n",
       "Df Model:                           3                                         \n",
       "Covariance Type:            nonrobust                                         \n",
       "==============================================================================\n",
       "                 coef    std err          t      P>|t|      [95.0% Conf. Int.]\n",
       "------------------------------------------------------------------------------\n",
       "x1             0.6135      0.275      2.233      0.112        -0.261     1.488\n",
       "x2            -0.7049      0.904     -0.780      0.493        -3.583     2.173\n",
       "x3            -0.0956      1.240     -0.077      0.943        -4.042     3.850\n",
       "==============================================================================\n",
       "Omnibus:                          nan   Durbin-Watson:                   2.694\n",
       "Prob(Omnibus):                    nan   Jarque-Bera (JB):                0.277\n",
       "Skew:                          -0.526   Prob(JB):                        0.871\n",
       "Kurtosis:                       3.001   Cond. No.                         18.8\n",
       "==============================================================================\n",
       "\n",
       "Warnings:\n",
       "[1] Standard Errors assume that the covariance matrix of the errors is correctly specified.\n",
       "\"\"\""
      ]
     },
     "execution_count": 477,
     "metadata": {},
     "output_type": "execute_result"
    }
   ],
   "source": [
    "res.summary()"
   ]
  },
  {
   "cell_type": "code",
   "execution_count": 478,
   "metadata": {
    "collapsed": false
   },
   "outputs": [
    {
     "data": {
      "text/plain": [
       "array([ 0.61346394, -0.70490376, -0.09563569])"
      ]
     },
     "execution_count": 478,
     "metadata": {},
     "output_type": "execute_result"
    }
   ],
   "source": [
    "res.params"
   ]
  },
  {
   "cell_type": "code",
   "execution_count": 227,
   "metadata": {
    "collapsed": false
   },
   "outputs": [],
   "source": [
    "xx = np.arange(x_data.max())"
   ]
  },
  {
   "cell_type": "code",
   "execution_count": 290,
   "metadata": {
    "collapsed": false
   },
   "outputs": [],
   "source": [
    "y_fit_perfect = srt.piecewise_linear(xx, breakpt, \n",
    "                                     *(res.params[0], res.params[0]+res.params[1]))\n",
    "y_fit_est = srt.piecewise_linear(xx, brk, m1, m2)"
   ]
  },
  {
   "cell_type": "code",
   "execution_count": 297,
   "metadata": {
    "collapsed": false
   },
   "outputs": [
    {
     "name": "stdout",
     "output_type": "stream",
     "text": [
      "0.00555800199988\n"
     ]
    }
   ],
   "source": [
    "#%%timeit\n",
    "sumsum = sum((srt.piecewise_linear(x_data, brk, m1, m2) - y_obs)**2)\n",
    "\n",
    "print((sumsum - sumsq) / sumsum)"
   ]
  },
  {
   "cell_type": "code",
   "execution_count": 313,
   "metadata": {
    "collapsed": true
   },
   "outputs": [],
   "source": [
    "npsqs, srsqs = np.zeros(1000), np.zeros(1000)\n",
    "\n",
    "for i in range(1000):\n",
    "    xxx = np.random.uniform(0, 100, 5)\n",
    "    yyy = np.random.uniform(0, 200, 5)\n",
    "    \n",
    "    mm1, mm2, bk, npsq = piecewise_search_1(xxx, yyy, n=100)\n",
    "    \n",
    "    srsq = ((yyy - srt.piecewise_linear(xxx, bk, mm1, mm2))**2).sum()\n",
    "    \n",
    "    npsqs[i] = npsq\n",
    "    srsqs[i] = srsq\n",
    "    \n",
    "    "
   ]
  },
  {
   "cell_type": "code",
   "execution_count": 314,
   "metadata": {
    "collapsed": false
   },
   "outputs": [
    {
     "data": {
      "text/plain": [
       "[<matplotlib.lines.Line2D at 0x1267ba940>]"
      ]
     },
     "execution_count": 314,
     "metadata": {},
     "output_type": "execute_result"
    },
    {
     "data": {
      "image/png": "[encoded data removed]",
      "text/plain": [
       "<matplotlib.figure.Figure at 0x1209ebf60>"
      ]
     },
     "metadata": {
      "image/png": {
       "height": 255,
       "width": 393
      }
     },
     "output_type": "display_data"
    }
   ],
   "source": [
    "plt.plot(npsqs, srsqs, ',')"
   ]
  },
  {
   "cell_type": "code",
   "execution_count": null,
   "metadata": {
    "collapsed": true
   },
   "outputs": [],
   "source": []
  },
  {
   "cell_type": "code",
   "execution_count": 471,
   "metadata": {
    "collapsed": false
   },
   "outputs": [
    {
     "data": {
      "text/plain": [
       "[<matplotlib.lines.Line2D at 0x127fef240>]"
      ]
     },
     "execution_count": 471,
     "metadata": {},
     "output_type": "execute_result"
    },
    {
     "data": {
      "image/png": "[encoded data removed]",
      "text/plain": [
       "<matplotlib.figure.Figure at 0x128ec6a20>"
      ]
     },
     "metadata": {
      "image/png": {
       "height": 479,
       "width": 599
      }
     },
     "output_type": "display_data"
    }
   ],
   "source": [
    "plt.figure(figsize=(10,8))\n",
    "\n",
    "plt.plot(x_data, y_true, 'o')\n",
    "#plt.plot(x_data, y_obs, 'o')\n",
    "#plt.plot(xx, y_fit_perfect, 'k--')\n",
    "#plt.plot(xx, y_fit_est, 'r--')\n"
   ]
  },
  {
   "cell_type": "code",
   "execution_count": 100,
   "metadata": {
    "collapsed": false
   },
   "outputs": [
    {
     "data": {
      "text/plain": [
       "[0, array([ 73, 125, 200, 266, 277])]"
      ]
     },
     "execution_count": 100,
     "metadata": {},
     "output_type": "execute_result"
    }
   ],
   "source": [
    "[0, x_data]"
   ]
  },
  {
   "cell_type": "code",
   "execution_count": 133,
   "metadata": {
    "collapsed": true
   },
   "outputs": [],
   "source": [
    "x_data.tolist().insert(0,0)"
   ]
  },
  {
   "cell_type": "code",
   "execution_count": 134,
   "metadata": {
    "collapsed": false
   },
   "outputs": [
    {
     "data": {
      "text/plain": [
       "array([ 15,  73, 125, 200, 266, 277])"
      ]
     },
     "execution_count": 134,
     "metadata": {},
     "output_type": "execute_result"
    }
   ],
   "source": [
    "x_data"
   ]
  },
  {
   "cell_type": "code",
   "execution_count": 135,
   "metadata": {
    "collapsed": false
   },
   "outputs": [
    {
     "data": {
      "text/plain": [
       "[15, 73, 125, 200, 266, 277]"
      ]
     },
     "execution_count": 135,
     "metadata": {},
     "output_type": "execute_result"
    }
   ],
   "source": [
    "x_data.tolist()"
   ]
  },
  {
   "cell_type": "code",
   "execution_count": 136,
   "metadata": {
    "collapsed": true
   },
   "outputs": [],
   "source": [
    "xl = x_data.tolist()"
   ]
  },
  {
   "cell_type": "code",
   "execution_count": 138,
   "metadata": {
    "collapsed": false
   },
   "outputs": [],
   "source": [
    "xl.insert(0,0)"
   ]
  },
  {
   "cell_type": "code",
   "execution_count": 139,
   "metadata": {
    "collapsed": false
   },
   "outputs": [
    {
     "data": {
      "text/plain": [
       "[0, 15, 73, 125, 200, 266, 277]"
      ]
     },
     "execution_count": 139,
     "metadata": {},
     "output_type": "execute_result"
    }
   ],
   "source": [
    "xl"
   ]
  },
  {
   "cell_type": "code",
   "execution_count": 498,
   "metadata": {
    "collapsed": false
   },
   "outputs": [
    {
     "data": {
      "text/plain": [
       "[[9, 9, 9], [9, 9, 9], 0, 15, 73, 125, 200, 266, 277]"
      ]
     },
     "execution_count": 498,
     "metadata": {},
     "output_type": "execute_result"
    }
   ],
   "source": [
    "xl"
   ]
  },
  {
   "cell_type": "code",
   "execution_count": 497,
   "metadata": {
    "collapsed": false
   },
   "outputs": [],
   "source": [
    "x2 = xl.insert(0, [9, 9, 9])"
   ]
  },
  {
   "cell_type": "code",
   "execution_count": 495,
   "metadata": {
    "collapsed": true
   },
   "outputs": [],
   "source": [
    "x2"
   ]
  },
  {
   "cell_type": "code",
   "execution_count": 496,
   "metadata": {
    "collapsed": false
   },
   "outputs": [
    {
     "name": "stdout",
     "output_type": "stream",
     "text": [
      "None\n"
     ]
    }
   ],
   "source": [
    "print(x2)"
   ]
  },
  {
   "cell_type": "code",
   "execution_count": 527,
   "metadata": {
    "collapsed": true
   },
   "outputs": [],
   "source": [
    "### irrelevant stuff about results columns; need to fix varous functions in srt before\n",
    "### arbitrary n_pieces will really work\n",
    "\n",
    "### mostly returning breakpts!\n",
    "\n",
    "\n",
    "def make_linear_results_columns(fit_type=None, n_linear_pieces=None):    \n",
    "    if fit_type == 'piecewise':\n",
    "        if n_linear_pieces == 2:\n",
    "            results_columns = ['m1', 'm2', 'breakpt', 'sumsq2', 'm', 'sumsq1']\n",
    "        else:\n",
    "            raise Exception('Only 2 piece piecewise-linear fits supported')\n",
    "    elif fit_type == 'linear':\n",
    "        results_columns = ['m', 'sumsq1']\n",
    "\n",
    "    return results_columns\n",
    "\n",
    "\n",
    "def make_linear_results_columns(fit_type=None, n_linear_pieces=None):    \n",
    "    results_columns = ['m', 'sumsq1']\n",
    "    \n",
    "    if fit_type == 'piecewise':\n",
    "        \n",
    "        m_cols = ['m{}'.format(num + 1) for num in range(n_linear_pieces)]\n",
    "        \n",
    "        results_columns = flatten([m_cols, ['breakpt', 'sumsq2'], results_columns])\n",
    "\n",
    "    return results_columns"
   ]
  },
  {
   "cell_type": "code",
   "execution_count": 529,
   "metadata": {
    "collapsed": false
   },
   "outputs": [
    {
     "data": {
      "text/plain": [
       "['m1', 'm2', 'm3', 'breakpt', 'sumsq2', 'm', 'sumsq1']"
      ]
     },
     "execution_count": 529,
     "metadata": {},
     "output_type": "execute_result"
    }
   ],
   "source": [
    "make_linear_results_columns(fit_type='piecewise', n_linear_pieces=3)"
   ]
  },
  {
   "cell_type": "code",
   "execution_count": 531,
   "metadata": {
    "collapsed": false
   },
   "outputs": [
    {
     "data": {
      "text/plain": [
       "[0, 1, 2]"
      ]
     },
     "execution_count": 531,
     "metadata": {},
     "output_type": "execute_result"
    }
   ],
   "source": [
    "[i for i in range(3)]"
   ]
  },
  {
   "cell_type": "code",
   "execution_count": null,
   "metadata": {
    "collapsed": true
   },
   "outputs": [],
   "source": []
  }
 ],
 "metadata": {
  "kernelspec": {
   "display_name": "Python 3",
   "language": "python",
   "name": "python3"
  },
  "language_info": {
   "codemirror_mode": {
    "name": "ipython",
    "version": 3
   },
   "file_extension": ".py",
   "mimetype": "text/x-python",
   "name": "python",
   "nbconvert_exporter": "python",
   "pygments_lexer": "ipython3",
   "version": "3.4.3"
  }
 },
 "nbformat": 4,
 "nbformat_minor": 0
}
