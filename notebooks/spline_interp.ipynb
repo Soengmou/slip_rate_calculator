{
 "cells": [
  {
   "cell_type": "code",
   "execution_count": 1,
   "metadata": {
    "collapsed": false
   },
   "outputs": [
    {
     "name": "stderr",
     "output_type": "stream",
     "text": [
      "Vendor:  Continuum Analytics, Inc.\n",
      "Package: mkl\n",
      "Message: trial mode expires in 30 days\n",
      "Vendor:  Continuum Analytics, Inc.\n",
      "Package: mkl\n",
      "Message: trial mode expires in 30 days\n"
     ]
    }
   ],
   "source": [
    "%matplotlib inline"
   ]
  },
  {
   "cell_type": "code",
   "execution_count": 75,
   "metadata": {
    "collapsed": true
   },
   "outputs": [],
   "source": [
    "import matplotlib.pyplot as plt"
   ]
  },
  {
   "cell_type": "code",
   "execution_count": 66,
   "metadata": {
    "collapsed": true
   },
   "outputs": [],
   "source": [
    "from scipy.interpolate import PchipInterpolator"
   ]
  },
  {
   "cell_type": "code",
   "execution_count": 51,
   "metadata": {
    "collapsed": false
   },
   "outputs": [],
   "source": [
    "import pandas as pd\n",
    "import numpy as np\n",
    "import sys; sys.path.append('../slip_rate_tools/')\n",
    "import slip_rate_tools as srt\n",
    "\n",
    "offset_df = pd.read_csv('../test_data/offsets.csv')\n",
    "offset_df['offset_m'] = offset_df.offset_in * 200.\n",
    "\n",
    "t1 = offset_df[offset_df.unit == 'T1']\n",
    "qa = offset_df[offset_df.unit == 'Qa']\n",
    "qao = offset_df[offset_df.unit == 'Qao']\n",
    "\n",
    "#qao['offset_m'] *= 1.5\n",
    "\n",
    "t1_age = {'mean': 24., 'sd':8.}\n",
    "qa_age = {'mean': 50., 'sd':20.}\n",
    "qao_age = {'mean':100., 'sd':32.}\n",
    "\n",
    "T1 = srt.OffsetMarker(age_mean=t1_age['mean'], age_sd=t1_age['sd'],\n",
    "                      offset_vals=t1.offset_m, offset_probs=t1.rel_prob)\n",
    "\n",
    "Qa = srt.OffsetMarker(age_mean=qa_age['mean'], age_sd=qa_age['sd'],\n",
    "                      offset_vals=qa.offset_m, offset_probs=qa.rel_prob)\n",
    "\n",
    "Qao = srt.OffsetMarker(age_mean=qao_age['mean'], age_sd=qao_age['sd'],\n",
    "                      offset_vals=qao.offset_m, offset_probs=qao.rel_prob)\n"
   ]
  },
  {
   "cell_type": "code",
   "execution_count": 23,
   "metadata": {
    "collapsed": false
   },
   "outputs": [
    {
     "data": {
      "text/html": [
       "<div style=\"max-height:1000px;max-width:1500px;overflow:auto;\">\n",
       "<table border=\"1\" class=\"dataframe\">\n",
       "  <thead>\n",
       "    <tr style=\"text-align: right;\">\n",
       "      <th></th>\n",
       "      <th>unit</th>\n",
       "      <th>offset_in</th>\n",
       "      <th>rel_prob</th>\n",
       "      <th>offset_m</th>\n",
       "    </tr>\n",
       "  </thead>\n",
       "  <tbody>\n",
       "    <tr>\n",
       "      <th>0 </th>\n",
       "      <td>  T1</td>\n",
       "      <td> 0.0000</td>\n",
       "      <td>  0.00</td>\n",
       "      <td>   0.00</td>\n",
       "    </tr>\n",
       "    <tr>\n",
       "      <th>1 </th>\n",
       "      <td>  T1</td>\n",
       "      <td> 0.0491</td>\n",
       "      <td>  3.00</td>\n",
       "      <td>   9.82</td>\n",
       "    </tr>\n",
       "    <tr>\n",
       "      <th>2 </th>\n",
       "      <td>  T1</td>\n",
       "      <td> 0.0961</td>\n",
       "      <td>  7.00</td>\n",
       "      <td>  19.22</td>\n",
       "    </tr>\n",
       "    <tr>\n",
       "      <th>3 </th>\n",
       "      <td>  T1</td>\n",
       "      <td> 0.1107</td>\n",
       "      <td> 10.00</td>\n",
       "      <td>  22.14</td>\n",
       "    </tr>\n",
       "    <tr>\n",
       "      <th>4 </th>\n",
       "      <td>  T1</td>\n",
       "      <td> 0.2081</td>\n",
       "      <td>  7.50</td>\n",
       "      <td>  41.62</td>\n",
       "    </tr>\n",
       "    <tr>\n",
       "      <th>5 </th>\n",
       "      <td>  T1</td>\n",
       "      <td> 0.3747</td>\n",
       "      <td>  1.50</td>\n",
       "      <td>  74.94</td>\n",
       "    </tr>\n",
       "    <tr>\n",
       "      <th>6 </th>\n",
       "      <td>  T1</td>\n",
       "      <td> 0.4202</td>\n",
       "      <td>  0.00</td>\n",
       "      <td>  84.04</td>\n",
       "    </tr>\n",
       "    <tr>\n",
       "      <th>7 </th>\n",
       "      <td>  Qa</td>\n",
       "      <td> 0.0963</td>\n",
       "      <td>  0.00</td>\n",
       "      <td>  19.26</td>\n",
       "    </tr>\n",
       "    <tr>\n",
       "      <th>8 </th>\n",
       "      <td>  Qa</td>\n",
       "      <td> 0.2133</td>\n",
       "      <td>  3.00</td>\n",
       "      <td>  42.66</td>\n",
       "    </tr>\n",
       "    <tr>\n",
       "      <th>9 </th>\n",
       "      <td>  Qa</td>\n",
       "      <td> 0.2777</td>\n",
       "      <td>  8.50</td>\n",
       "      <td>  55.54</td>\n",
       "    </tr>\n",
       "    <tr>\n",
       "      <th>10</th>\n",
       "      <td>  Qa</td>\n",
       "      <td> 0.3139</td>\n",
       "      <td> 10.00</td>\n",
       "      <td>  62.78</td>\n",
       "    </tr>\n",
       "    <tr>\n",
       "      <th>11</th>\n",
       "      <td>  Qa</td>\n",
       "      <td> 0.4357</td>\n",
       "      <td>  4.00</td>\n",
       "      <td>  87.14</td>\n",
       "    </tr>\n",
       "    <tr>\n",
       "      <th>12</th>\n",
       "      <td>  Qa</td>\n",
       "      <td> 0.5285</td>\n",
       "      <td>  3.25</td>\n",
       "      <td> 105.70</td>\n",
       "    </tr>\n",
       "    <tr>\n",
       "      <th>13</th>\n",
       "      <td>  Qa</td>\n",
       "      <td> 1.5000</td>\n",
       "      <td>  1.50</td>\n",
       "      <td> 300.00</td>\n",
       "    </tr>\n",
       "    <tr>\n",
       "      <th>14</th>\n",
       "      <td>  Qa</td>\n",
       "      <td> 1.7500</td>\n",
       "      <td>  0.00</td>\n",
       "      <td> 350.00</td>\n",
       "    </tr>\n",
       "    <tr>\n",
       "      <th>15</th>\n",
       "      <td> Qao</td>\n",
       "      <td> 0.1892</td>\n",
       "      <td>  0.00</td>\n",
       "      <td>  37.84</td>\n",
       "    </tr>\n",
       "    <tr>\n",
       "      <th>16</th>\n",
       "      <td> Qao</td>\n",
       "      <td> 0.2966</td>\n",
       "      <td>  1.00</td>\n",
       "      <td>  59.32</td>\n",
       "    </tr>\n",
       "    <tr>\n",
       "      <th>17</th>\n",
       "      <td> Qao</td>\n",
       "      <td> 0.4137</td>\n",
       "      <td>  8.00</td>\n",
       "      <td>  82.74</td>\n",
       "    </tr>\n",
       "    <tr>\n",
       "      <th>18</th>\n",
       "      <td> Qao</td>\n",
       "      <td> 0.5210</td>\n",
       "      <td> 10.00</td>\n",
       "      <td> 104.20</td>\n",
       "    </tr>\n",
       "    <tr>\n",
       "      <th>19</th>\n",
       "      <td> Qao</td>\n",
       "      <td> 0.5979</td>\n",
       "      <td>  8.00</td>\n",
       "      <td> 119.58</td>\n",
       "    </tr>\n",
       "    <tr>\n",
       "      <th>20</th>\n",
       "      <td> Qao</td>\n",
       "      <td> 0.7442</td>\n",
       "      <td>  4.00</td>\n",
       "      <td> 148.84</td>\n",
       "    </tr>\n",
       "    <tr>\n",
       "      <th>21</th>\n",
       "      <td> Qao</td>\n",
       "      <td> 0.8507</td>\n",
       "      <td>  2.50</td>\n",
       "      <td> 170.14</td>\n",
       "    </tr>\n",
       "    <tr>\n",
       "      <th>22</th>\n",
       "      <td> Qao</td>\n",
       "      <td> 1.9000</td>\n",
       "      <td>  1.25</td>\n",
       "      <td> 380.00</td>\n",
       "    </tr>\n",
       "    <tr>\n",
       "      <th>23</th>\n",
       "      <td> Qao</td>\n",
       "      <td> 2.2000</td>\n",
       "      <td>  1.00</td>\n",
       "      <td> 440.00</td>\n",
       "    </tr>\n",
       "    <tr>\n",
       "      <th>24</th>\n",
       "      <td> Qao</td>\n",
       "      <td> 2.3500</td>\n",
       "      <td>  0.00</td>\n",
       "      <td> 470.00</td>\n",
       "    </tr>\n",
       "  </tbody>\n",
       "</table>\n",
       "</div>"
      ],
      "text/plain": [
       "   unit  offset_in  rel_prob  offset_m\n",
       "0    T1     0.0000      0.00      0.00\n",
       "1    T1     0.0491      3.00      9.82\n",
       "2    T1     0.0961      7.00     19.22\n",
       "3    T1     0.1107     10.00     22.14\n",
       "4    T1     0.2081      7.50     41.62\n",
       "5    T1     0.3747      1.50     74.94\n",
       "6    T1     0.4202      0.00     84.04\n",
       "7    Qa     0.0963      0.00     19.26\n",
       "8    Qa     0.2133      3.00     42.66\n",
       "9    Qa     0.2777      8.50     55.54\n",
       "10   Qa     0.3139     10.00     62.78\n",
       "11   Qa     0.4357      4.00     87.14\n",
       "12   Qa     0.5285      3.25    105.70\n",
       "13   Qa     1.5000      1.50    300.00\n",
       "14   Qa     1.7500      0.00    350.00\n",
       "15  Qao     0.1892      0.00     37.84\n",
       "16  Qao     0.2966      1.00     59.32\n",
       "17  Qao     0.4137      8.00     82.74\n",
       "18  Qao     0.5210     10.00    104.20\n",
       "19  Qao     0.5979      8.00    119.58\n",
       "20  Qao     0.7442      4.00    148.84\n",
       "21  Qao     0.8507      2.50    170.14\n",
       "22  Qao     1.9000      1.25    380.00\n",
       "23  Qao     2.2000      1.00    440.00\n",
       "24  Qao     2.3500      0.00    470.00"
      ]
     },
     "execution_count": 23,
     "metadata": {},
     "output_type": "execute_result"
    }
   ],
   "source": [
    "offset_df"
   ]
  },
  {
   "cell_type": "code",
   "execution_count": 25,
   "metadata": {
    "collapsed": false
   },
   "outputs": [
    {
     "data": {
      "text/html": [
       "<div style=\"max-height:1000px;max-width:1500px;overflow:auto;\">\n",
       "<table border=\"1\" class=\"dataframe\">\n",
       "  <thead>\n",
       "    <tr style=\"text-align: right;\">\n",
       "      <th></th>\n",
       "      <th>unit</th>\n",
       "      <th>offset_in</th>\n",
       "      <th>rel_prob</th>\n",
       "      <th>offset_m</th>\n",
       "    </tr>\n",
       "  </thead>\n",
       "  <tbody>\n",
       "    <tr>\n",
       "      <th>15</th>\n",
       "      <td> Qao</td>\n",
       "      <td> 0.1892</td>\n",
       "      <td>  0.00</td>\n",
       "      <td>  56.76</td>\n",
       "    </tr>\n",
       "    <tr>\n",
       "      <th>16</th>\n",
       "      <td> Qao</td>\n",
       "      <td> 0.2966</td>\n",
       "      <td>  1.00</td>\n",
       "      <td>  88.98</td>\n",
       "    </tr>\n",
       "    <tr>\n",
       "      <th>17</th>\n",
       "      <td> Qao</td>\n",
       "      <td> 0.4137</td>\n",
       "      <td>  8.00</td>\n",
       "      <td> 124.11</td>\n",
       "    </tr>\n",
       "    <tr>\n",
       "      <th>18</th>\n",
       "      <td> Qao</td>\n",
       "      <td> 0.5210</td>\n",
       "      <td> 10.00</td>\n",
       "      <td> 156.30</td>\n",
       "    </tr>\n",
       "    <tr>\n",
       "      <th>19</th>\n",
       "      <td> Qao</td>\n",
       "      <td> 0.5979</td>\n",
       "      <td>  8.00</td>\n",
       "      <td> 179.37</td>\n",
       "    </tr>\n",
       "    <tr>\n",
       "      <th>20</th>\n",
       "      <td> Qao</td>\n",
       "      <td> 0.7442</td>\n",
       "      <td>  4.00</td>\n",
       "      <td> 223.26</td>\n",
       "    </tr>\n",
       "    <tr>\n",
       "      <th>21</th>\n",
       "      <td> Qao</td>\n",
       "      <td> 0.8507</td>\n",
       "      <td>  2.50</td>\n",
       "      <td> 255.21</td>\n",
       "    </tr>\n",
       "    <tr>\n",
       "      <th>22</th>\n",
       "      <td> Qao</td>\n",
       "      <td> 1.9000</td>\n",
       "      <td>  1.25</td>\n",
       "      <td> 570.00</td>\n",
       "    </tr>\n",
       "    <tr>\n",
       "      <th>23</th>\n",
       "      <td> Qao</td>\n",
       "      <td> 2.2000</td>\n",
       "      <td>  1.00</td>\n",
       "      <td> 660.00</td>\n",
       "    </tr>\n",
       "    <tr>\n",
       "      <th>24</th>\n",
       "      <td> Qao</td>\n",
       "      <td> 2.3500</td>\n",
       "      <td>  0.00</td>\n",
       "      <td> 705.00</td>\n",
       "    </tr>\n",
       "  </tbody>\n",
       "</table>\n",
       "</div>"
      ],
      "text/plain": [
       "   unit  offset_in  rel_prob  offset_m\n",
       "15  Qao     0.1892      0.00     56.76\n",
       "16  Qao     0.2966      1.00     88.98\n",
       "17  Qao     0.4137      8.00    124.11\n",
       "18  Qao     0.5210     10.00    156.30\n",
       "19  Qao     0.5979      8.00    179.37\n",
       "20  Qao     0.7442      4.00    223.26\n",
       "21  Qao     0.8507      2.50    255.21\n",
       "22  Qao     1.9000      1.25    570.00\n",
       "23  Qao     2.2000      1.00    660.00\n",
       "24  Qao     2.3500      0.00    705.00"
      ]
     },
     "execution_count": 25,
     "metadata": {},
     "output_type": "execute_result"
    }
   ],
   "source": [
    "qao"
   ]
  },
  {
   "cell_type": "code",
   "execution_count": 11,
   "metadata": {
    "collapsed": false
   },
   "outputs": [
    {
     "data": {
      "text/plain": [
       "(array([ 16.31694064,  36.73410475,  26.81866518,  18.7844328 ,\n",
       "         14.70398688,   5.73569941,  18.69811823,  21.80703614,\n",
       "         35.00612989,  22.47813497]),\n",
       " array([ 21.42646304,  33.52158302,  21.31053705,  14.04337784,\n",
       "          9.26645959,  19.36819734,  24.10638945,  13.46958588,\n",
       "         65.11186479,  37.60305611]))"
      ]
     },
     "execution_count": 11,
     "metadata": {},
     "output_type": "execute_result"
    }
   ],
   "source": [
    "T1.sample(10)"
   ]
  },
  {
   "cell_type": "code",
   "execution_count": 52,
   "metadata": {
    "collapsed": false
   },
   "outputs": [],
   "source": [
    "def make_age_offset_arrays(offset_list, n, check_increasing=False, zero_offset_age=0.):\n",
    "    \n",
    "    #np.random.seed(69)\n",
    "    \n",
    "    \n",
    "    age_array = np.zeros((n, len(offset_list)+1))\n",
    "    off_array = np.zeros((n, len(offset_list)+1))\n",
    "    \n",
    "    age_array[:,0] = zero_offset_age\n",
    "    \n",
    "    for i, off_mark in enumerate(offset_list):\n",
    "        col = i+1\n",
    "        age_array[:,col], off_array[:,col] = off_mark.sample(n)\n",
    "        \n",
    "    if check_increasing == True:\n",
    "        \n",
    "        def make_inc_bool(age_array, off_array, n):\n",
    "        \n",
    "            inc_bool = np.ones((age_array.shape[0]), dtype=int)\n",
    "            for row in range(n):\n",
    "                age_inc = srt.check_increasing(age_array[row,:])\n",
    "                off_inc = srt.check_increasing(off_array[row,:])\n",
    "                \n",
    "                if not (age_inc and off_inc):\n",
    "                    inc_bool[row] = 0\n",
    "                    \n",
    "            #print('ic',inc_bool.sum())\n",
    "            inc_bool = np.array(inc_bool, dtype=bool)\n",
    "                \n",
    "            return inc_bool\n",
    "    \n",
    "        inc_bool = make_inc_bool(age_array, off_array, n)\n",
    "                    \n",
    "        age_array = age_array[inc_bool, :]\n",
    "        off_array = off_array[inc_bool, :]\n",
    "        \n",
    "        while age_array.shape[0] < n:\n",
    "            \n",
    "            next_age_array, next_off_array = make_age_offset_arrays(offset_list, n, \n",
    "                                                                    check_increasing=False,\n",
    "                                                                    zero_offset_age=zero_offset_age)\n",
    "            \n",
    "            next_inc_bool = make_inc_bool(next_age_array, next_off_array, n)\n",
    "            \n",
    "            next_age_array = next_age_array[next_inc_bool, :]\n",
    "            next_off_array = next_off_array[next_inc_bool, :]\n",
    "           \n",
    "            off_array = np.vstack([off_array, next_off_array])\n",
    "            age_array = np.vstack([age_array, next_age_array])\n",
    "            \n",
    "            #print(age_array.shape[0])\n",
    "            \n",
    "    return age_array[:n,:], off_array[:n,:]\n",
    "    #    return age_array, off_array, inc_bool\n",
    "    #\n",
    "    #else:\n",
    "    #    return age_array, off_array\n",
    "    \n",
    "    "
   ]
  },
  {
   "cell_type": "code",
   "execution_count": 54,
   "metadata": {
    "collapsed": false
   },
   "outputs": [
    {
     "name": "stdout",
     "output_type": "stream",
     "text": [
      "100 loops, best of 3: 10.1 ms per loop\n"
     ]
    }
   ],
   "source": [
    "%%timeit\n",
    "make_age_offset_arrays([T1, Qa, Qao], 1000)"
   ]
  },
  {
   "cell_type": "code",
   "execution_count": 57,
   "metadata": {
    "collapsed": false
   },
   "outputs": [
    {
     "name": "stdout",
     "output_type": "stream",
     "text": [
      "1 loops, best of 3: 27.7 s per loop\n"
     ]
    }
   ],
   "source": [
    "%%timeit\n",
    "make_age_offset_arrays([T1, Qa, Qao], 50000, check_increasing=True)"
   ]
  },
  {
   "cell_type": "code",
   "execution_count": 116,
   "metadata": {
    "collapsed": true
   },
   "outputs": [],
   "source": [
    "@jit\n",
    "def jit_age_offset_arrays(offset_list, n):\n",
    "    check_increasing=True\n",
    "    zero_offset_age=0.\n",
    "    #np.random.seed(69)\n",
    "    \n",
    "    \n",
    "    age_array = np.zeros((n, len(offset_list)+1))\n",
    "    off_array = np.zeros((n, len(offset_list)+1))\n",
    "    \n",
    "    age_array[:,0] = zero_offset_age\n",
    "    \n",
    "    for i, off_mark in enumerate(offset_list):\n",
    "        col = i+1\n",
    "        age_array[:,col], off_array[:,col] = off_mark.sample(n)\n",
    "        \n",
    "    if check_increasing == True:\n",
    "    \n",
    "        inc_bool = make_inc_bool(age_array, off_array, n)\n",
    "                    \n",
    "        age_array = age_array[inc_bool, :]\n",
    "        off_array = off_array[inc_bool, :]\n",
    "        \n",
    "        while age_array.shape[0] < n:\n",
    "            \n",
    "            next_age_array, next_off_array = make_age_offset_arrays(offset_list, n, \n",
    "                                                                    check_increasing=False,\n",
    "                                                                    zero_offset_age=zero_offset_age)\n",
    "            \n",
    "            next_inc_bool = make_inc_bool(next_age_array, next_off_array, n)\n",
    "            \n",
    "            next_age_array = next_age_array[next_inc_bool, :]\n",
    "            next_off_array = next_off_array[next_inc_bool, :]\n",
    "           \n",
    "            off_array = np.vstack([off_array, next_off_array])\n",
    "            age_array = np.vstack([age_array, next_age_array])\n",
    "            \n",
    "            #print(age_array.shape[0])\n",
    "            \n",
    "    return age_array[:n,:], off_array[:n,:]\n",
    "\n",
    "@jit\n",
    "def make_inc_bool(age_array, off_array, n):\n",
    "        \n",
    "    inc_bool = np.ones((age_array.shape[0]), dtype=int)\n",
    "    for row in range(n):\n",
    "        age_inc = srt.check_increasing(age_array[row,:])\n",
    "        off_inc = srt.check_increasing(off_array[row,:])\n",
    "                \n",
    "        if not (age_inc and off_inc):\n",
    "            inc_bool[row] = 0\n",
    "                    \n",
    "            #print('ic',inc_bool.sum())\n",
    "    inc_bool = np.array(inc_bool, dtype=bool)\n",
    "                \n",
    "    return inc_bool"
   ]
  },
  {
   "cell_type": "code",
   "execution_count": 119,
   "metadata": {
    "collapsed": false
   },
   "outputs": [
    {
     "name": "stdout",
     "output_type": "stream",
     "text": [
      "1 loops, best of 3: 2.84 s per loop\n"
     ]
    }
   ],
   "source": [
    "%%timeit\n",
    "jit_age_offset_arrays([T1, Qa, Qao], 5000)"
   ]
  },
  {
   "cell_type": "code",
   "execution_count": null,
   "metadata": {
    "collapsed": true
   },
   "outputs": [],
   "source": []
  },
  {
   "cell_type": "code",
   "execution_count": 56,
   "metadata": {
    "collapsed": true
   },
   "outputs": [],
   "source": [
    "age_arr, off_arr = make_age_offset_arrays([T1, Qa, Qao], 1000, check_increasing=True)"
   ]
  },
  {
   "cell_type": "code",
   "execution_count": 60,
   "metadata": {
    "collapsed": false
   },
   "outputs": [],
   "source": [
    "times = np.linspace(0, 200, num=1000)"
   ]
  },
  {
   "cell_type": "code",
   "execution_count": 70,
   "metadata": {
    "collapsed": false
   },
   "outputs": [
    {
     "name": "stdout",
     "output_type": "stream",
     "text": [
      "1 loops, best of 3: 638 ms per loop\n"
     ]
    }
   ],
   "source": [
    "%%timeit\n",
    "\n",
    "sh1 = [srt.sample_slip_history(age_arr[row,:], off_arr[row,:], times) for row in range(1000)]"
   ]
  },
  {
   "cell_type": "code",
   "execution_count": 65,
   "metadata": {
    "collapsed": false
   },
   "outputs": [
    {
     "ename": "ValueError",
     "evalue": "operands could not be broadcast together with shapes (579,) (407,) ",
     "output_type": "error",
     "traceback": [
      "\u001b[1;31m---------------------------------------------------------------------------\u001b[0m",
      "\u001b[1;31mValueError\u001b[0m                                Traceback (most recent call last)",
      "\u001b[1;32m<ipython-input-65-b2e2dce4f889>\u001b[0m in \u001b[0;36m<module>\u001b[1;34m()\u001b[0m\n\u001b[1;32m----> 1\u001b[1;33m \u001b[0msh1\u001b[0m\u001b[1;33m[\u001b[0m\u001b[1;36m0\u001b[0m\u001b[1;33m]\u001b[0m \u001b[1;33m-\u001b[0m \u001b[0msh1\u001b[0m\u001b[1;33m[\u001b[0m\u001b[1;36m1\u001b[0m\u001b[1;33m]\u001b[0m\u001b[1;33m\u001b[0m\u001b[0m\n\u001b[0m",
      "\u001b[1;31mValueError\u001b[0m: operands could not be broadcast together with shapes (579,) (407,) "
     ]
    }
   ],
   "source": [
    "sh1[0] - sh1[1]"
   ]
  },
  {
   "cell_type": "code",
   "execution_count": 83,
   "metadata": {
    "collapsed": true
   },
   "outputs": [],
   "source": [
    "def interp(age_array, off_array, time_array, extrapolate=False):\n",
    "    sh_int = PchipInterpolator(age_array, off_array, extrapolate=extrapolate)\n",
    "    \n",
    "    return sh_int(time_array, 0, extrapolate)"
   ]
  },
  {
   "cell_type": "code",
   "execution_count": 92,
   "metadata": {
    "collapsed": false
   },
   "outputs": [],
   "source": [
    "#%%timeit\n",
    "\n",
    "sh2 = [interp(age_arr[row,:], off_arr[row,:], times) for row in range(1000)]"
   ]
  },
  {
   "cell_type": "code",
   "execution_count": 93,
   "metadata": {
    "collapsed": true
   },
   "outputs": [],
   "source": [
    "arr = np.vstack(sh2)"
   ]
  },
  {
   "cell_type": "code",
   "execution_count": 94,
   "metadata": {
    "collapsed": false
   },
   "outputs": [
    {
     "data": {
      "text/plain": [
       "(1000, 1000)"
      ]
     },
     "execution_count": 94,
     "metadata": {},
     "output_type": "execute_result"
    }
   ],
   "source": [
    "arr.shape"
   ]
  },
  {
   "cell_type": "code",
   "execution_count": 95,
   "metadata": {
    "collapsed": false
   },
   "outputs": [
    {
     "data": {
      "text/plain": [
       "474566"
      ]
     },
     "execution_count": 95,
     "metadata": {},
     "output_type": "execute_result"
    }
   ],
   "source": [
    "np.isnan(arr).sum()"
   ]
  },
  {
   "cell_type": "code",
   "execution_count": 100,
   "metadata": {
    "collapsed": true
   },
   "outputs": [],
   "source": [
    "arr0 = arr.copy()\n",
    "arr0[np.isnan(arr0)] = 0."
   ]
  },
  {
   "cell_type": "code",
   "execution_count": 101,
   "metadata": {
    "collapsed": false
   },
   "outputs": [
    {
     "data": {
      "image/png": "[encoded data removed]",
      "text/plain": [
       "<matplotlib.figure.Figure at 0xa798786c>"
      ]
     },
     "metadata": {},
     "output_type": "display_data"
    }
   ],
   "source": [
    "plt.pcolormesh(arr0)\n",
    "\n",
    "plt.colorbar()\n",
    "\n",
    "plt.show()"
   ]
  },
  {
   "cell_type": "code",
   "execution_count": 102,
   "metadata": {
    "collapsed": false
   },
   "outputs": [
    {
     "data": {
      "text/plain": [
       "468.41925359784142"
      ]
     },
     "execution_count": 102,
     "metadata": {},
     "output_type": "execute_result"
    }
   ],
   "source": [
    "arr0.max()"
   ]
  },
  {
   "cell_type": "code",
   "execution_count": 103,
   "metadata": {
    "collapsed": false
   },
   "outputs": [
    {
     "data": {
      "text/plain": [
       "0.0"
      ]
     },
     "execution_count": 103,
     "metadata": {},
     "output_type": "execute_result"
    }
   ],
   "source": [
    "arr0.min()"
   ]
  },
  {
   "cell_type": "code",
   "execution_count": 105,
   "metadata": {
    "collapsed": false
   },
   "outputs": [
    {
     "data": {
      "image/png": "[encoded data removed]",
      "text/plain": [
       "<matplotlib.figure.Figure at 0xa8213f6c>"
      ]
     },
     "metadata": {},
     "output_type": "display_data"
    }
   ],
   "source": [
    "plt.plot(arr0[0,:])\n",
    "plt.show()"
   ]
  },
  {
   "cell_type": "code",
   "execution_count": null,
   "metadata": {
    "collapsed": true
   },
   "outputs": [],
   "source": [
    "np.histogram2d("
   ]
  },
  {
   "cell_type": "code",
   "execution_count": 107,
   "metadata": {
    "collapsed": false
   },
   "outputs": [
    {
     "ename": "TypeError",
     "evalue": "hist2d() missing 1 required positional argument: 'y'",
     "output_type": "error",
     "traceback": [
      "\u001b[1;31m---------------------------------------------------------------------------\u001b[0m",
      "\u001b[1;31mTypeError\u001b[0m                                 Traceback (most recent call last)",
      "\u001b[1;32m<ipython-input-107-533ab5ffaec4>\u001b[0m in \u001b[0;36m<module>\u001b[1;34m()\u001b[0m\n\u001b[1;32m----> 1\u001b[1;33m \u001b[0mplt\u001b[0m\u001b[1;33m.\u001b[0m\u001b[0mhist2d\u001b[0m\u001b[1;33m(\u001b[0m\u001b[0marr\u001b[0m\u001b[1;33m)\u001b[0m\u001b[1;33m\u001b[0m\u001b[0m\n\u001b[0m\u001b[0;32m      2\u001b[0m \u001b[1;33m\u001b[0m\u001b[0m\n\u001b[0;32m      3\u001b[0m \u001b[0mplt\u001b[0m\u001b[1;33m.\u001b[0m\u001b[0mshow\u001b[0m\u001b[1;33m(\u001b[0m\u001b[1;33m)\u001b[0m\u001b[1;33m\u001b[0m\u001b[0m\n",
      "\u001b[1;31mTypeError\u001b[0m: hist2d() missing 1 required positional argument: 'y'"
     ]
    }
   ],
   "source": [
    "plt.hist2d(arr)\n",
    "\n",
    "plt.show()"
   ]
  },
  {
   "cell_type": "code",
   "execution_count": 111,
   "metadata": {
    "collapsed": true
   },
   "outputs": [],
   "source": [
    "import numba as nb\n",
    "from numba import jit"
   ]
  },
  {
   "cell_type": "code",
   "execution_count": null,
   "metadata": {
    "collapsed": true
   },
   "outputs": [],
   "source": [
    "nb.jit("
   ]
  }
 ],
 "metadata": {
  "kernelspec": {
   "display_name": "Python 3",
   "language": "python",
   "name": "python3"
  },
  "language_info": {
   "codemirror_mode": {
    "name": "ipython",
    "version": 3
   },
   "file_extension": ".py",
   "mimetype": "text/x-python",
   "name": "python",
   "nbconvert_exporter": "python",
   "pygments_lexer": "ipython3",
   "version": "3.4.3"
  }
 },
 "nbformat": 4,
 "nbformat_minor": 0
}
