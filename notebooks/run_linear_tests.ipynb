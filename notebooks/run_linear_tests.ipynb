{
 "cells": [
  {
   "cell_type": "code",
   "execution_count": 1,
   "metadata": {
    "collapsed": false
   },
   "outputs": [],
   "source": [
    "%matplotlib inline\n",
    "%config InlineBackend.figure_format = 'retina'"
   ]
  },
  {
   "cell_type": "code",
   "execution_count": 25,
   "metadata": {
    "collapsed": false
   },
   "outputs": [],
   "source": [
    "import sys; sys.path.append('../slip_rate_tools/')\n",
    "\n",
    "#import numpy as np \n",
    "import pandas as pd \n",
    "import matplotlib.pyplot as plt\n",
    "import slip_rate_tools as srt\n",
    "import numpy as np\n",
    "from importlib import reload"
   ]
  },
  {
   "cell_type": "code",
   "execution_count": 51,
   "metadata": {
    "collapsed": false
   },
   "outputs": [
    {
     "data": {
      "text/plain": [
       "<module 'slip_rate_tools' from '../slip_rate_tools/slip_rate_tools.py'>"
      ]
     },
     "execution_count": 51,
     "metadata": {},
     "output_type": "execute_result"
    }
   ],
   "source": [
    "reload(srt)"
   ]
  },
  {
   "cell_type": "code",
   "execution_count": 3,
   "metadata": {
    "collapsed": false
   },
   "outputs": [],
   "source": [
    "from numba import jit"
   ]
  },
  {
   "cell_type": "code",
   "execution_count": 4,
   "metadata": {
    "collapsed": false
   },
   "outputs": [],
   "source": [
    "'''\n",
    "Test data.  This will be removed when the adding data interface is built.\n",
    "'''\n",
    "\n",
    "offset_df = pd.read_csv('../test_data/offsets.csv')\n",
    "offset_df['offset_m'] = offset_df.offset_in * 200.\n",
    "\n",
    "t1 = offset_df[offset_df.unit == 'T1']\n",
    "qa = offset_df[offset_df.unit == 'Qa']\n",
    "qao = offset_df[offset_df.unit == 'Qao']\n",
    "\n",
    "#qa['offset_m'] += 200.\n",
    "\n",
    "t1_age = {'mean': 24., 'sd':8.}\n",
    "qa_age = {'mean': 50., 'sd':20.}\n",
    "qao_age = {'mean':100., 'sd':32.}\n",
    "\n",
    "#qao_age['mean'] += 200\n",
    "\n",
    "T1 = srt.OffsetMarker(age_mean=t1_age['mean'], age_sd=t1_age['sd'],\n",
    "                      offset_vals=t1.offset_m, offset_probs=t1.rel_prob)\n",
    "\n",
    "Qa = srt.OffsetMarker(age_mean=qa_age['mean'], age_sd=qa_age['sd'],\n",
    "                      offset_vals=qa.offset_m, offset_probs=qa.rel_prob)\n",
    "\n",
    "Qao = srt.OffsetMarker(age_mean=qao_age['mean'], age_sd=qao_age['sd'],\n",
    "                      offset_vals=qao.offset_m, offset_probs=qao.rel_prob)\n"
   ]
  },
  {
   "cell_type": "code",
   "execution_count": 54,
   "metadata": {
    "collapsed": false
   },
   "outputs": [],
   "source": [
    "def run_linear_interp(offset_list, n_iters, zero_offset_age=0.,\n",
    "                      check_increasing=False, check_rate_change=False):\n",
    "    '''\n",
    "    Main linear interpolation function. Runs both \n",
    "\n",
    "    Arguments:\n",
    "    offset_list = list of OffsetMarkers, in increasing age order.\n",
    "    n_iters = integer specifying number of Monte Carlo iterations.\n",
    "    zero_offset_age = float specifying the age at which no more offset occurs;\n",
    "                      i.e. the last age of faulting.\n",
    "    check_increasing = Boolean value to ensure increasing offsets with\n",
    "                       increasing ages.\n",
    "    check_rate_change = Boolean value to perform a piecewise linear\n",
    "                        interpolation (2 pieces) \n",
    "    '''\n",
    "\n",
    "    srt.check_unit_consistency(offset_list)\n",
    "\n",
    "    n_pts = len(offset_list) + 1 # accounting for 0 offset\n",
    "\n",
    "    print('sampling offset markers')\n",
    "    age_arr, off_arr = srt.make_age_offset_arrays(offset_list, n_iters,\n",
    "                                             check_increasing=check_increasing)\n",
    "\n",
    "    print('doing fits')\n",
    "    results_df = do_linear_fits(age_arr, off_arr, \n",
    "                                    check_rate_change=check_rate_change,\n",
    "                                    trim_results=True)\n",
    "\n",
    "    results_df['log_like_1'] = srt.log_likelihood(results_df.sumsq1, n_pts)\n",
    "\n",
    "    if check_rate_change==True:\n",
    "        num_1_odds = srt.rate_change_test(results_df, 4, print_res=True)\n",
    "\n",
    "\n",
    "    elif check_rate_change==False:\n",
    "        print('\\nbest fit slip rate results:')\n",
    "        print(results_df.m.describe())\n",
    "\n",
    "    return results_df, age_arr"
   ]
  },
  {
   "cell_type": "code",
   "execution_count": 56,
   "metadata": {
    "collapsed": false,
    "scrolled": true
   },
   "outputs": [
    {
     "name": "stdout",
     "output_type": "stream",
     "text": [
      "sampling offset markers\n",
      "doing fits\n",
      "\n",
      "best fit slip rate results:\n",
      "count    500.000000\n",
      "mean       2.152147\n",
      "std        1.080795\n",
      "min        0.547343\n",
      "25%        1.319981\n",
      "50%        1.920500\n",
      "75%        2.762681\n",
      "max        6.808655\n",
      "Name: m, dtype: float64\n",
      "sampling offset markers\n",
      "doing fits\n",
      "\n",
      "best fit slip rate results:\n",
      "count    500.000000\n",
      "mean       2.116950\n",
      "std        1.122299\n",
      "min        0.514049\n",
      "25%        1.200694\n",
      "50%        1.883910\n",
      "75%        2.809235\n",
      "max        5.919213\n",
      "Name: m, dtype: float64\n",
      "sampling offset markers\n",
      "doing fits\n",
      "\n",
      "best fit slip rate results:\n",
      "count    500.000000\n",
      "mean       2.063494\n",
      "std        1.061937\n",
      "min        0.495486\n",
      "25%        1.174829\n",
      "50%        1.800766\n",
      "75%        2.703643\n",
      "max        8.497009\n",
      "Name: m, dtype: float64\n",
      "sampling offset markers\n",
      "doing fits\n",
      "\n",
      "best fit slip rate results:\n",
      "count    500.000000\n",
      "mean       2.165667\n",
      "std        1.181048\n",
      "min        0.535149\n",
      "25%        1.190322\n",
      "50%        1.882459\n",
      "75%        2.904536\n",
      "max        7.293999\n",
      "Name: m, dtype: float64\n",
      "1 loops, best of 3: 128 ms per loop\n"
     ]
    }
   ],
   "source": [
    "%%timeit\n",
    "res_df, age_arr= run_linear_interp([T1, Qa, Qao], 500, \n",
    "                                       check_increasing=True, \n",
    "                                       check_rate_change=False)"
   ]
  },
  {
   "cell_type": "code",
   "execution_count": 53,
   "metadata": {
    "collapsed": true
   },
   "outputs": [],
   "source": [
    "do_linear_fits = jit(srt.do_linear_fits)"
   ]
  },
  {
   "cell_type": "code",
   "execution_count": 7,
   "metadata": {
    "collapsed": false
   },
   "outputs": [
    {
     "name": "stdout",
     "output_type": "stream",
     "text": [
      "1 loops, best of 3: 13.5 s per loop\n"
     ]
    }
   ],
   "source": [
    "%%timeit\n",
    "rate_hist_df = srt.make_rate_hist_array(res_df, age_arr, n_segments=2)"
   ]
  },
  {
   "cell_type": "code",
   "execution_count": 45,
   "metadata": {
    "collapsed": false
   },
   "outputs": [
    {
     "name": "stdout",
     "output_type": "stream",
     "text": [
      "1 loops, best of 3: 14.6 s per loop\n"
     ]
    }
   ],
   "source": [
    "%%timeit\n",
    "rate_hist_df = srt.make_rate_hist_array(res_df, age_arr, n_segments=2)"
   ]
  },
  {
   "cell_type": "code",
   "execution_count": 9,
   "metadata": {
    "collapsed": false
   },
   "outputs": [],
   "source": [
    "make_rate_hist_array_jit = jit(srt.make_rate_hist_array)"
   ]
  },
  {
   "cell_type": "code",
   "execution_count": 11,
   "metadata": {
    "collapsed": false
   },
   "outputs": [
    {
     "name": "stdout",
     "output_type": "stream",
     "text": [
      "1 loops, best of 3: 13.5 s per loop\n"
     ]
    }
   ],
   "source": [
    "%%timeit\n",
    "rate_hist_df2 = make_rate_hist_array_jit(res_df, age_arr, n_segments=2)"
   ]
  },
  {
   "cell_type": "code",
   "execution_count": 16,
   "metadata": {
    "collapsed": false
   },
   "outputs": [
    {
     "name": "stdout",
     "output_type": "stream",
     "text": [
      "1000 loops, best of 3: 535 µs per loop\n"
     ]
    }
   ],
   "source": [
    "#%%timeit\n",
    "#srt.piecewise_rate_interp(1.1, 3.3, 96., 136., 160.)"
   ]
  },
  {
   "cell_type": "code",
   "execution_count": 29,
   "metadata": {
    "collapsed": false
   },
   "outputs": [
    {
     "name": "stdout",
     "output_type": "stream",
     "text": [
      "10000 loops, best of 3: 43 µs per loop\n"
     ]
    }
   ],
   "source": [
    "%%timeit\n",
    "srt.piecewise_rate_interp(1.1, 3.3, 96., 136., 160.)"
   ]
  },
  {
   "cell_type": "code",
   "execution_count": 23,
   "metadata": {
    "collapsed": true
   },
   "outputs": [],
   "source": [
    "def piecewise_rate_interp(rate1, rate2, breakpt, run_time_max, sim_time_max,\n",
    "                          zero_offset_age=0., num_pts=1000):\n",
    "\n",
    "\n",
    "\n",
    "    times = np.linspace(zero_offset_age, sim_time_max, num_pts)\n",
    "    #slip_rate_history = pd.Series(index=times, data=np.zeros(num_pts))\n",
    "    slip_rate_history = np.zeros(num_pts)\n",
    "    \n",
    "    \n",
    "    zero_offset_idx = find_nearest_index_jit(times, zero_offset_age)\n",
    "    run_time_max_idx = find_nearest_index_jit(times, run_time_max)\n",
    "    breakpt_idx = find_nearest_index_jit(times, breakpt)\n",
    "    \n",
    "    slip_rate_history[zero_offset_idx : breakpt_idx] = rate1\n",
    "    slip_rate_history[breakpt_idx : run_time_max_idx] = rate2\n",
    "    \n",
    "\n",
    "    #slip_rate_history.ix[zero_offset_age : breakpt] = rate1\n",
    "    #slip_rate_history.ix[breakpt : run_time_max] = rate2\n",
    "    \n",
    "    \n",
    "\n",
    "    return slip_rate_history"
   ]
  },
  {
   "cell_type": "code",
   "execution_count": 24,
   "metadata": {
    "collapsed": false
   },
   "outputs": [
    {
     "name": "stdout",
     "output_type": "stream",
     "text": [
      "The slowest run took 7647.98 times longer than the fastest. This could mean that an intermediate result is being cached \n",
      "1 loops, best of 3: 30.9 µs per loop\n"
     ]
    }
   ],
   "source": [
    "%%timeit\n",
    "piecewise_rate_interp(1.1, 3.3, 96., 136., 160.)"
   ]
  },
  {
   "cell_type": "code",
   "execution_count": 14,
   "metadata": {
    "collapsed": true
   },
   "outputs": [],
   "source": [
    "def find_nearest(array,value):\n",
    "    idx = (np.abs(array-value)).argmin()\n",
    "    return array[idx]\n",
    "\n",
    "def find_nearest_index(array, value):\n",
    "    idx = (np.abs(array-value)).argmin()\n",
    "    return idx\n",
    "\n",
    "@jit\n",
    "def find_nearest_jit(array, value):\n",
    "    idx = (np.abs(array-value)).argmin()\n",
    "    return array[idx]\n",
    "\n",
    "@jit \n",
    "def find_nearest_index_jit(array, value):\n",
    "    idx = (np.abs(array-value)).argmin()\n",
    "    return idx\n"
   ]
  },
  {
   "cell_type": "code",
   "execution_count": 50,
   "metadata": {
    "collapsed": false
   },
   "outputs": [
    {
     "data": {
      "text/plain": [
       "array([   0.        ,   33.76030832,   46.21153838,  152.78650135])"
      ]
     },
     "execution_count": 50,
     "metadata": {},
     "output_type": "execute_result"
    }
   ],
   "source": [
    "age_arr[0,:]"
   ]
  },
  {
   "cell_type": "code",
   "execution_count": null,
   "metadata": {
    "collapsed": false
   },
   "outputs": [],
   "source": [
    "cum_hist_df = srt.make_cum_hist_array(rate_hist_df)"
   ]
  }
 ],
 "metadata": {
  "kernelspec": {
   "display_name": "Python 3",
   "language": "python",
   "name": "python3"
  },
  "language_info": {
   "codemirror_mode": {
    "name": "ipython",
    "version": 3
   },
   "file_extension": ".py",
   "mimetype": "text/x-python",
   "name": "python",
   "nbconvert_exporter": "python",
   "pygments_lexer": "ipython3",
   "version": "3.4.3"
  }
 },
 "nbformat": 4,
 "nbformat_minor": 0
}
